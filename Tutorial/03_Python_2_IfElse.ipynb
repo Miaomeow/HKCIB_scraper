{
 "cells": [
  {
   "cell_type": "markdown",
   "metadata": {},
   "source": [
    "# Flow Control (Conditional Statements)\n",
    "\n",
    "Sometimes we want to run some code <b>IF</b> some conditions apply.\n",
    "\n",
    "For example, we want to keep the records of members with <i>active</i> status only.\n",
    "\n",
    "![HKCIB table](Pictures/03_HKCIB_table.PNG)\n",
    "\n",
    "Look at the code sample below:"
   ]
  },
  {
   "cell_type": "code",
   "execution_count": 1,
   "metadata": {},
   "outputs": [
    {
     "name": "stdout",
     "output_type": "stream",
     "text": [
      "Active member\n"
     ]
    }
   ],
   "source": [
    "member = ['0001','Siu Chi Lam','Active']\n",
    "if member[2] == 'Active':\n",
    "    print(\"Active member\")\n",
    "else:\n",
    "    print(\"Resigned member\")"
   ]
  },
  {
   "cell_type": "markdown",
   "metadata": {},
   "source": [
    "Double click the code box above and change 'Active' to other strings, like 'resigned'. Run the code again, and see what happens."
   ]
  },
  {
   "cell_type": "markdown",
   "metadata": {},
   "source": [
    "Every if statement starts with an <b>if</b>, a <b>comparison</b>, and a <b>semi-colin</b>.\n",
    "```Python\n",
    "if member[2] == 'Active':\n",
    "```\n",
    "The block of <b>indented</b> code underneath will be executed if the comparison evaluates true. If the code under is not indented, it does not belong to part of the if statement. For example, a \"Hello\" will be printed regardless of the member is active or not:\n",
    "```Python\n",
    "if member[2] == 'Active':\n",
    "    print(\"Active member\")\n",
    "print(\"Hello\")\n",
    "```\n",
    "\n",
    "The next part <b>else</b> is <b>optional</b>, it states what to do when the <b>if</b> statement does not pass.\n",
    "```Python\n",
    "else:\n",
    "    print(\"Resigned member\")\n",
    "```\n",
    "\n",
    "\n",
    "There are other comparison operators you can use:\n",
    "\n",
    "\n",
    "Operator | Meaning\n",
    "---------|---------\n",
    "== |Equal to\n",
    "!= |Not equal to\n",
    "< |Less than\n",
    "> |Greater than\n",
    "<= |Less than or equal to\n",
    ">= | Greater than or equal to\n",
    "\n",
    "Say we do not want to accept members with membership number smaller than 0010, what would you do?"
   ]
  },
  {
   "cell_type": "code",
   "execution_count": 7,
   "metadata": {},
   "outputs": [
    {
     "name": "stdout",
     "output_type": "stream",
     "text": [
      "rejected\n"
     ]
    }
   ],
   "source": [
    "if int(member[0]) < 10:\n",
    "    print(\"rejected\")\n",
    "else:\n",
    "    print(\"accepted\")"
   ]
  },
  {
   "cell_type": "markdown",
   "metadata": {},
   "source": [
    "Here we change the member number from string to integer first before comparison. Because the membership number is a string with preceding zeros, we need to compare it with a string with the same number of digits too. For the sake of convenience, I convert the string into an equivalent integer value.\n",
    "\n",
    "Change the member ID in the previous code block to 0010 to see changes in result."
   ]
  },
  {
   "cell_type": "markdown",
   "metadata": {},
   "source": [
    "## Nested IF-ELSE\n",
    "\n",
    "Consider the following situation: I want to accept active members only. If the member also has a Chinese name, then I label him/her CHI, else NON. How will the logic be?"
   ]
  },
  {
   "cell_type": "code",
   "execution_count": 9,
   "metadata": {},
   "outputs": [
    {
     "name": "stdout",
     "output_type": "stream",
     "text": [
      "NON\n"
     ]
    }
   ],
   "source": [
    "members = [\n",
    "    ['0003', 'WELLSTED Michael John', '', 'Active'],\n",
    "    ['0010', 'SIU Mei Fung', '蕭美鳳', 'Active']\n",
    "]\n",
    "\n",
    "if members[0][3] == 'Active':\n",
    "    if members[0][2] == '':\n",
    "        print(\"NON\")\n",
    "    else:\n",
    "        print(\"CHI\")"
   ]
  },
  {
   "cell_type": "code",
   "execution_count": 10,
   "metadata": {},
   "outputs": [
    {
     "name": "stdout",
     "output_type": "stream",
     "text": [
      "CHI\n"
     ]
    }
   ],
   "source": [
    "if members[1][3] == 'Active':\n",
    "    if members[1][2] == '':\n",
    "        print(\"NON\")\n",
    "    else:\n",
    "        print(\"CHI\")"
   ]
  },
  {
   "cell_type": "markdown",
   "metadata": {},
   "source": [
    "In this example, you see that if statements can be built into a nested structure. Theoretically, you can build as many layers as you like."
   ]
  },
  {
   "cell_type": "markdown",
   "metadata": {},
   "source": [
    "## Boolean Operators\n",
    "\n",
    "<b>AND</b>, <b>OR</b>, <b>NOT</b> are the three major operators used in combining comparison statements.\n",
    "\n",
    "Say I want to admit member who is active and has a chinese name. Look at the sample code:"
   ]
  },
  {
   "cell_type": "code",
   "execution_count": 17,
   "metadata": {},
   "outputs": [
    {
     "name": "stdout",
     "output_type": "stream",
     "text": [
      "rejected\n"
     ]
    }
   ],
   "source": [
    "m = members[0]\n",
    "\n",
    "if m[3] == 'Active' and m[2] != '':\n",
    "    print(\"accepted\")\n",
    "else:\n",
    "    print(\"rejected\")"
   ]
  },
  {
   "cell_type": "markdown",
   "metadata": {},
   "source": [
    "Change m equal to members[1] to see changes in result.\n",
    "\n",
    "Now I want to admit member who is active <b>or</b> has a chinese name. What's the code?"
   ]
  },
  {
   "cell_type": "code",
   "execution_count": 18,
   "metadata": {},
   "outputs": [
    {
     "name": "stdout",
     "output_type": "stream",
     "text": [
      "accepted\n"
     ]
    }
   ],
   "source": [
    "if m[3] == 'Active' or m[2] != '':\n",
    "    print(\"accepted\")\n",
    "else:\n",
    "    print(\"rejected\")"
   ]
  },
  {
   "cell_type": "markdown",
   "metadata": {},
   "source": [
    "Now I want to admit member who is active <b>and</b> does <b>not</b> has a chinese name, what's the code?"
   ]
  },
  {
   "cell_type": "code",
   "execution_count": 19,
   "metadata": {},
   "outputs": [
    {
     "name": "stdout",
     "output_type": "stream",
     "text": [
      "accepted\n"
     ]
    }
   ],
   "source": [
    "if m[3] == 'Active' and not m[2] != '':\n",
    "    print(\"accepted\")\n",
    "else:\n",
    "    print(\"rejected\")"
   ]
  },
  {
   "cell_type": "markdown",
   "metadata": {},
   "source": [
    "What exactly is this:\n",
    "```Python\n",
    "not m[2] != '':\n",
    "```\n",
    "It says do not accept the member who does not have a Chinese name. But it's a bit clumsy, can we simplify it?"
   ]
  },
  {
   "cell_type": "code",
   "execution_count": 20,
   "metadata": {},
   "outputs": [
    {
     "name": "stdout",
     "output_type": "stream",
     "text": [
      "accepted\n"
     ]
    }
   ],
   "source": [
    "if m[3] == 'Active' and m[2] == '':\n",
    "    print(\"accepted\")\n",
    "else:\n",
    "    print(\"rejected\")"
   ]
  },
  {
   "cell_type": "markdown",
   "metadata": {},
   "source": [
    "See there was a double negation with not and !=, we can actually simplify it to ==. My advice is always make the statement as clear to the human eye as possible."
   ]
  }
 ],
 "metadata": {
  "kernelspec": {
   "display_name": "Python 3",
   "language": "python",
   "name": "python3"
  },
  "language_info": {
   "codemirror_mode": {
    "name": "ipython",
    "version": 3
   },
   "file_extension": ".py",
   "mimetype": "text/x-python",
   "name": "python",
   "nbconvert_exporter": "python",
   "pygments_lexer": "ipython3",
   "version": "3.7.0"
  }
 },
 "nbformat": 4,
 "nbformat_minor": 2
}
